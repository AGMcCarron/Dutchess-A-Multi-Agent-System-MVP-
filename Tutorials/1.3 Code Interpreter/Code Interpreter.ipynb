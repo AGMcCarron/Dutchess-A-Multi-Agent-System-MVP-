{
 "cells": [
  {
   "cell_type": "markdown",
   "id": "c0adb506",
   "metadata": {},
   "source": [
    "This jupyter notebook sets out about how to create a chat bot capable of python coding which uses data from a csv file. Below we have done the usual set up, if you have not previously run pip install openai within the jupyter notebook folder you are using or get any error messages relating to \"openai\" not being correct and have not run this first line run it without the \"#\" at the beginning and restart the notebook. Note: do not press restart and run all as this will cause the chat bot to interupt itself, go through the boxes one by one."
   ]
  },
  {
   "cell_type": "code",
   "execution_count": null,
   "id": "89b9db11",
   "metadata": {},
   "outputs": [],
   "source": [
    "#pip install openai"
   ]
  },
  {
   "cell_type": "code",
   "execution_count": null,
   "id": "b070c222",
   "metadata": {},
   "outputs": [],
   "source": [
    "from openai import OpenAI\n",
    "\n",
    "openai_api_key = \"\"\n",
    "\n",
    "client = OpenAI(api_key=openai_api_key)"
   ]
  },
  {
   "cell_type": "markdown",
   "id": "f047ae40",
   "metadata": {},
   "source": [
    "Next we'll create the assistant as we have done before:"
   ]
  },
  {
   "cell_type": "code",
   "execution_count": null,
   "id": "c464a583",
   "metadata": {},
   "outputs": [],
   "source": [
    "assistant = client.beta.assistants.create(\n",
    "    instructions = \"You are an automatic python coder, when given a set of data you write and run code to plot the data, when you are given a prompt to code you write and run that code\",\n",
    "    name = \"Python Plotter\",\n",
    "    model = \"gpt-4o\",\n",
    "    tools = [{\"type\": \"code_interpreter\"}],\n",
    ")"
   ]
  },
  {
   "cell_type": "markdown",
   "id": "9609e1b1",
   "metadata": {},
   "source": [
    "Then we'll create an object which contains the file we want to use and a marked \"purpose\". Purposes are a defined list and are marked in the open ai website when we upload our file. These are the list of possible purpose tags: 'fine-tune', 'assistants', 'batch', 'user_data', 'responses', 'vision'\n",
    "\n",
    "After that we create a thread as we have done before including the file in the attachments. Two things we can note here: one the reason we do not need to turn this file into a vector store is because our chat bot is not using the document as a knowledge base, instead like a prompt this is an input for the chat bot. second we could have instead chose to upload the file when creating the assistant by including the code marked by a # at the bottom of the below box, however each time we run the above code a new assistant is created, which is not ideal, whereas if we run it through the thread creation we use the same assistant and it mimics how someone would upload a file to an interface of an already existing assistant. Note: if you ever want to reset the conversation you are having with the chatbot you can run the below box again and the assistant will be maintained but the conversation will restart."
   ]
  },
  {
   "cell_type": "code",
   "execution_count": null,
   "id": "c62c6d3e",
   "metadata": {},
   "outputs": [],
   "source": [
    "file = client.files.create(\n",
    "    file=open(\"x_squared_data.csv\", \"rb\"),\n",
    "    purpose=\"user_data\"\n",
    ")\n",
    "\n",
    "thread = client.beta.threads.create(\n",
    "  messages=[\n",
    "    {\n",
    "      \"role\": \"user\",\n",
    "      \"content\": \"I need to create a line plot using this data, can you help me?\",\n",
    "      \"attachments\": [\n",
    "        {\n",
    "          \"file_id\": file.id,\n",
    "          \"tools\": [{\"type\": \"code_interpreter\"}]\n",
    "        }\n",
    "      ]\n",
    "    }\n",
    "  ]\n",
    ")\n",
    "\n",
    "#tool_resources={\n",
    "    #\"code_interpreter\": {\n",
    "      #\"file_ids\": [file.id]\n",
    "       # }\n",
    "   # }\n"
   ]
  },
  {
   "cell_type": "markdown",
   "id": "38093efd",
   "metadata": {},
   "source": [
    "Next again we'll write our event handler which actually allows our stream function to print text. The three new imports shown here are PIL, io and requests. PIL allows us to show images in jupyter notebooks (this means this might be unnescerary for future versions where you're using different UI), io allows the raw image data to be read and converted, requests allows for the download of the image data from the chat bot. There are two new sections of code within the following box: that is the new elif statement in the event handler's on_tool_call_delta_function, this elif is there for the case when the output of the chat bot is an image and it uses the new download_image function which grabs the image from the url and downloads it to display the image."
   ]
  },
  {
   "cell_type": "code",
   "execution_count": null,
   "id": "84a2ea4a",
   "metadata": {},
   "outputs": [],
   "source": [
    "from typing_extensions import override\n",
    "from openai import AssistantEventHandler\n",
    "from PIL import Image\n",
    "import io\n",
    "import requests\n",
    "\n",
    "class EventHandler(AssistantEventHandler):    \n",
    "    @override\n",
    "    def on_text_created(self, text) -> None:\n",
    "        print(f\"\\nassistant > \", end=\"\", flush=True)\n",
    "      \n",
    "    @override\n",
    "    def on_text_delta(self, delta, snapshot):\n",
    "        print(delta.value, end=\"\", flush=True)\n",
    "      \n",
    "    def on_tool_call_created(self, tool_call):\n",
    "        print(f\"\\nassistant > {tool_call.type}\\n\", flush=True)\n",
    "  \n",
    "    def on_tool_call_delta(self, delta, snapshot):\n",
    "        if delta.type == 'code_interpreter':\n",
    "            if delta.code_interpreter.input:\n",
    "                print(delta.code_interpreter.input, end=\"\", flush=True)\n",
    "            if delta.code_interpreter.outputs:\n",
    "                print(f\"\\n\\noutput >\", flush=True)\n",
    "                for output in delta.code_interpreter.outputs:\n",
    "                    if output.type == \"logs\":\n",
    "                        print(f\"\\n{output.logs}\", flush=True)\n",
    "                    elif output.type == \"image\":\n",
    "                        # Fetch the image data using the file_id\n",
    "                        file_id = output.image.file_id\n",
    "                        image_data = self.download_image(file_id)\n",
    "                        if image_data:\n",
    "                            image = Image.open(io.BytesIO(image_data))\n",
    "                            image.show()\n",
    "  \n",
    "    def download_image(self, file_id):\n",
    "        url = f\"https://api.openai.com/v1/files/{file_id}/content\"\n",
    "        headers = {\n",
    "            \"Authorization\": f\"Bearer {openai_api_key}\",\n",
    "        }\n",
    "        response = requests.get(url, headers=headers)\n",
    "        if response.status_code == 200:\n",
    "            return response.content\n",
    "        else:\n",
    "            print(f\"Failed to download image: {response.status_code} {response.text}\")\n",
    "            return None"
   ]
  },
  {
   "cell_type": "markdown",
   "id": "55a89da9",
   "metadata": {},
   "source": [
    "Then as we have done previously we have the stream run from the chat bot making sure to specificy the thread id, assistant id, instructions and event handler that we want to use"
   ]
  },
  {
   "cell_type": "code",
   "execution_count": null,
   "id": "df65c042",
   "metadata": {},
   "outputs": [],
   "source": [
    "with client.beta.threads.runs.stream(\n",
    "  thread_id=thread.id,\n",
    "  assistant_id=assistant.id,\n",
    "  instructions=\"Please be calm and understanding of any requests\",\n",
    "  event_handler=EventHandler(),\n",
    ") as stream:\n",
    "  stream.until_done()"
   ]
  },
  {
   "cell_type": "markdown",
   "id": "6c1303a5",
   "metadata": {},
   "source": [
    "As you can see the outputted data is a quadratic plot with values at integers of x, but what if we wanted to swap the x and y axis? We can use the following code, below we create a \"thread message\", this adds a message onto the already existing thread using the already existing thread id, we then run our stream again and we get a new out put. You can play with this swapping the content=input input out for different things or you could even go back to the beginning and put in a new cvs file to get an entirely new plot."
   ]
  },
  {
   "cell_type": "code",
   "execution_count": null,
   "id": "5b8579f4",
   "metadata": {
    "scrolled": true
   },
   "outputs": [],
   "source": [
    "thread_message = client.beta.threads.messages.create(\n",
    "    thread_id=thread.id,\n",
    "    role=\"user\",\n",
    "    content=\"please swap the x and y axis\"\n",
    ")\n",
    "\n",
    "with client.beta.threads.runs.stream(\n",
    "  thread_id=thread.id,\n",
    "  assistant_id=assistant.id,\n",
    "  instructions=\"Please be calm and understanding of any requests\",\n",
    "  event_handler=EventHandler(),\n",
    ") as stream:\n",
    "  stream.until_done()"
   ]
  },
  {
   "cell_type": "markdown",
   "id": "f5b33edc",
   "metadata": {},
   "source": [
    "Below this are several other boxes of examples of what you could have this do in the same thread."
   ]
  },
  {
   "cell_type": "code",
   "execution_count": null,
   "id": "2b631f64",
   "metadata": {},
   "outputs": [],
   "source": [
    "thread_message = client.beta.threads.messages.create(\n",
    "    thread_id=thread.id,\n",
    "    role=\"user\",\n",
    "    content=\"please make a y = x cubed graph ignoring the previous data\"\n",
    ")\n",
    "\n",
    "with client.beta.threads.runs.stream(\n",
    "  thread_id=thread.id,\n",
    "  assistant_id=assistant.id,\n",
    "  instructions=\"Please be calm and understanding of any requests\",\n",
    "  event_handler=EventHandler(),\n",
    ") as stream:\n",
    "  stream.until_done()"
   ]
  },
  {
   "cell_type": "code",
   "execution_count": null,
   "id": "0a84dc62",
   "metadata": {},
   "outputs": [],
   "source": [
    "thread_message = client.beta.threads.messages.create(\n",
    "    thread_id=thread.id,\n",
    "    role=\"user\",\n",
    "    content=\"please write code for calculating the area of a circle of radius 1 using the monte carlo method\"\n",
    ")\n",
    "\n",
    "with client.beta.threads.runs.stream(\n",
    "  thread_id=thread.id,\n",
    "  assistant_id=assistant.id,\n",
    "  instructions=\"Please be calm and understanding of any requests\",\n",
    "  event_handler=EventHandler(),\n",
    ") as stream:\n",
    "  stream.until_done()"
   ]
  },
  {
   "cell_type": "code",
   "execution_count": null,
   "id": "d515aafb",
   "metadata": {},
   "outputs": [],
   "source": []
  }
 ],
 "metadata": {
  "kernelspec": {
   "display_name": "Python 3 (ipykernel)",
   "language": "python",
   "name": "python3"
  },
  "language_info": {
   "codemirror_mode": {
    "name": "ipython",
    "version": 3
   },
   "file_extension": ".py",
   "mimetype": "text/x-python",
   "name": "python",
   "nbconvert_exporter": "python",
   "pygments_lexer": "ipython3",
   "version": "3.9.12"
  }
 },
 "nbformat": 4,
 "nbformat_minor": 5
}
