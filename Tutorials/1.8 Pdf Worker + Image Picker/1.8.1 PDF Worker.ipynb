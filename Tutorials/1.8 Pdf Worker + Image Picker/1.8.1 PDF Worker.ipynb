{
 "cells": [
  {
   "cell_type": "markdown",
   "metadata": {},
   "source": [
    "If we wanted to create a chatbot that is able to retrieve images from a textbook or a repository we give it based on that images relevance to the user query how would we do that? This jupyter notebook goes over the first part of that process. We extract images from a pdf, we then feed these images to openai to provide us with a description of the image, we then store the images in a folder and then the descriptions in a seperate folder as a .json file. We'll then use these descriptions in the Image Picker Jupyter Notebook to find the image of all of them which is most relevant to our user query.  We start by importing several modules, os gives us access to file paths, fitz allows for the opening of pdf documements, PIL's Image module allows for the opening of images, io allows for the conversion of input types, base64 allows us to upload images to openai, requests allows for requests from a url, json allows for the creation and interpretation of .json files."
   ]
  },
  {
   "cell_type": "code",
   "execution_count": null,
   "metadata": {},
   "outputs": [],
   "source": [
    "#pip install PyMuPDF"
   ]
  },
  {
   "cell_type": "code",
   "execution_count": null,
   "metadata": {},
   "outputs": [],
   "source": [
    "import os\n",
    "import fitz  # PyMuPDF\n",
    "from PIL import Image\n",
    "import io\n",
    "import base64\n",
    "import requests\n",
    "import json"
   ]
  },
  {
   "cell_type": "markdown",
   "metadata": {},
   "source": [
    "We start by start by stating our api key as per usual, we then define the path to the pdf we want to extract images from in this case I have used the quantum notes from Year 2 F2A and we can also define the document_name which we'll use later for creating names of extracted images and created files. We also define two directories one which holds our descriptions of the images and one which will hold the images. Make sure to switch the directories to the locations on your computer"
   ]
  },
  {
   "cell_type": "code",
   "execution_count": null,
   "metadata": {},
   "outputs": [],
   "source": [
    "api_key = \"\"\n",
    "\n",
    "pdf_file_path = r\"\"\n",
    "document_name = \"\"\n",
    "\n",
    "description_directory = r\"\"\n",
    "image_directory = r\"\""
   ]
  },
  {
   "cell_type": "markdown",
   "metadata": {},
   "source": [
    "We then define two functions extract_images_from_pdf first checks the file path to ensure the file exists, it then opens the file and then goes through each page and retrieves the images from them, indexs them appropriately, closes the document and then returns a list of the images data. save_image takes image data and an output directory, opens the image and saves it to that directory. It creates a file name based on the page number and the image index defined in the image data and the document name we defined previously. We can then run both the functions feeding the image data obtained from extract_image_from_pdf into save_image which then saves the images in our image_directory."
   ]
  },
  {
   "cell_type": "code",
   "execution_count": null,
   "metadata": {},
   "outputs": [],
   "source": [
    "def extract_images_from_pdf(pdf_file):\n",
    "    if not os.path.isfile(pdf_file):\n",
    "        print(f\"Error: The file '{pdf_file}' does not exist.\")\n",
    "        return None\n",
    "    \n",
    "    pdf_document = fitz.open(pdf_file)\n",
    "    image_list = []\n",
    "\n",
    "    for page_num in range(len(pdf_document)):\n",
    "        page = pdf_document.load_page(page_num)\n",
    "        page_images = page.get_images(full=True)\n",
    "\n",
    "        for img_idx, img_info in enumerate(page_images):\n",
    "            xref = img_info[0]\n",
    "            base_image = pdf_document.extract_image(xref)\n",
    "\n",
    "            image_bytes = base_image[\"image\"]\n",
    "            image_ext = base_image[\"ext\"]\n",
    "            \n",
    "            image_data = {\n",
    "                \"page_number\": page_num + 1,\n",
    "                \"image_index\": img_idx + 1,\n",
    "                \"image_extension\": image_ext,\n",
    "                \"image_data\": image_bytes\n",
    "            }\n",
    "            image_list.append(image_data)\n",
    "\n",
    "    pdf_document.close()\n",
    "    return image_list\n",
    "\n",
    "def save_image(image_data, output_dir):\n",
    "    image_bytes = image_data[\"image_data\"]\n",
    "    image_ext = image_data[\"image_extension\"]\n",
    "    \n",
    "    # Load image from bytes\n",
    "    img = Image.open(io.BytesIO(image_bytes))\n",
    "\n",
    "    # Save image to output directory\n",
    "    if not os.path.exists(output_dir):\n",
    "        os.makedirs(output_dir)\n",
    "\n",
    "    image_filename = f\"source{document_name}_page{image_data['page_number']}_image{image_data['image_index']}.{image_ext}\"\n",
    "    image_path = os.path.join(output_dir, image_filename)\n",
    "    img.save(image_path)\n",
    "\n",
    "    print(f\"Image saved: {image_path}\")"
   ]
  },
  {
   "cell_type": "code",
   "execution_count": null,
   "metadata": {},
   "outputs": [],
   "source": [
    "extracted_images = extract_images_from_pdf(pdf_file_path)\n",
    "    \n",
    "if extracted_images:\n",
    "    for image_data in extracted_images:\n",
    "        save_image(image_data, image_directory)"
   ]
  },
  {
   "cell_type": "markdown",
   "metadata": {},
   "source": [
    "Next we define the encode_image function which takes an image file and and encodes it in the base64 format and returns the encoded string. We need to encode an image in base64 for openai to be able to read it. "
   ]
  },
  {
   "cell_type": "code",
   "execution_count": null,
   "metadata": {},
   "outputs": [],
   "source": [
    "def encode_image(image_path):\n",
    "    with open(image_path, \"rb\") as image_file:\n",
    "        return base64.b64encode(image_file.read()).decode('utf-8')"
   ]
  },
  {
   "cell_type": "markdown",
   "metadata": {},
   "source": [
    "Now we'll send the image to gpt-4o to interpret and provide us with a description. We start by definining the headers, these just tell openai what to expect and it gives them our api key. We then loop through all the files in the image_directory folder and call the encode_image function on each one as we create a \"payload\" to send to openai. This payload contains everything we need to send for the message including a token limit. This token limit limits how many tokens are used by the chatbot in processing the image, this is important as image interpretation can be quite costly if left unchecked. We then send our payload by calling requests.post which then outputs the chatbots response which we store in a variable. We then extract just the text from the response and add it to a list called descriptions. We use a short amount of words to decrease the time taken for the model to produce an answer and to increase the accuracy of our retrieval system in the Image Picker document."
   ]
  },
  {
   "cell_type": "code",
   "execution_count": null,
   "metadata": {},
   "outputs": [],
   "source": [
    "headers = {\n",
    "    \"Content-Type\": \"application/json\",\n",
    "    \"Authorization\": f\"Bearer {api_key}\"\n",
    "}\n",
    "\n",
    "descriptions = []\n",
    "\n",
    "for filename in os.listdir(image_directory):\n",
    "    if filename.endswith(\".jpeg\") or filename.endswith(\".jpg\") or filename.endswith(\".png\"):\n",
    "        image_path = os.path.join(image_directory, filename)\n",
    "        \n",
    "        # Getting the base64 string\n",
    "        base64_image = encode_image(image_path)\n",
    "        \n",
    "        payload = {\n",
    "            \"model\": \"gpt-4o\",\n",
    "            \"messages\": [\n",
    "                {\n",
    "                    \"role\": \"user\",\n",
    "                    \"content\": [\n",
    "                        {\n",
    "                            \"type\": \"text\",\n",
    "                            \"text\": \"use a short but scientific description to describe what is in this image, it should be no longer than 10 words?\"\n",
    "                        },\n",
    "                        {\n",
    "                            \"type\": \"image_url\",\n",
    "                            \"image_url\": {\n",
    "                                \"url\": f\"data:image/jpeg;base64,{base64_image}\"\n",
    "                            }\n",
    "                        }\n",
    "                    ]\n",
    "                }\n",
    "            ],\n",
    "            \"max_tokens\": 300\n",
    "        }\n",
    "        \n",
    "        response = requests.post(\"https://api.openai.com/v1/chat/completions\", headers=headers, json=payload)\n",
    "        \n",
    "        # Extracting just the text from the response\n",
    "        if response.status_code == 200:\n",
    "            response_json = response.json()\n",
    "            text_content = response_json['choices'][0]['message']['content']\n",
    "            descriptions.append(text_content)\n",
    "        else:\n",
    "            print(f\"Request for {filename} failed with status code: {response.status_code}\")\n",
    "            print(response.text)"
   ]
  },
  {
   "cell_type": "markdown",
   "metadata": {},
   "source": [
    "We then define the file name and where we want our list of descriptions to be stored and save them there."
   ]
  },
  {
   "cell_type": "code",
   "execution_count": null,
   "metadata": {},
   "outputs": [],
   "source": [
    "file_name = f\"{document_name}_descriptions.json\"\n",
    "file_path = os.path.join(description_directory, file_name)\n",
    "\n",
    "with open(file_path, \"w\") as file:\n",
    "    json.dump(descriptions, file)"
   ]
  },
  {
   "cell_type": "code",
   "execution_count": null,
   "metadata": {},
   "outputs": [],
   "source": []
  }
 ],
 "metadata": {
  "kernelspec": {
   "display_name": "Python 3",
   "language": "python",
   "name": "python3"
  },
  "language_info": {
   "codemirror_mode": {
    "name": "ipython",
    "version": 3
   },
   "file_extension": ".py",
   "mimetype": "text/x-python",
   "name": "python",
   "nbconvert_exporter": "python",
   "pygments_lexer": "ipython3",
   "version": "3.10.0"
  }
 },
 "nbformat": 4,
 "nbformat_minor": 2
}
