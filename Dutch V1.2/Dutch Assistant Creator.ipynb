{
 "cells": [
  {
   "cell_type": "markdown",
   "metadata": {},
   "source": [
    "This notebook goes over the process of creating an assistant. You should make sure to run the \"Resource Creator\" notebook before you run this one. "
   ]
  },
  {
   "cell_type": "markdown",
   "metadata": {},
   "source": [
    "# Contents\n",
    "\n",
    "**1 - Setup**\n",
    "\n",
    "- 1.1 Imports\n",
    "- 1.2 OpenAI\n",
    "- 1.3 Directories\n",
    "\n",
    "**2 - Assistant Creator**\n",
    "\n",
    "- 2.1 Loading Vector Stores\n",
    "- 2.2 Assistant Creation\n",
    "- 2.3 Storing Assistant ID"
   ]
  },
  {
   "cell_type": "markdown",
   "metadata": {},
   "source": [
    "# 1 - Setup\n",
    "\n",
    "This section details the process of setting up the modules, OpenAI functionality and directories we'll need"
   ]
  },
  {
   "cell_type": "markdown",
   "metadata": {},
   "source": [
    "## 1.1 Imports\n",
    "\n",
    "These are the imported modules we'll need\n",
    "\n",
    "`from openai import OpenAI` the OpenAI module allows us to set up a client that can communicate with OpenAI's services. These services are not specific to just chatbots although it does include this purpose we can use these services to create vector stores (more on this later) and upload and change files.\n",
    "\n",
    "`import os` this module allows us to modify and access files and folders\n",
    "\n",
    "`import json` this module allows for the reading and creation of .json files which allow us to store the data we process for later use"
   ]
  },
  {
   "cell_type": "code",
   "execution_count": 1,
   "metadata": {},
   "outputs": [],
   "source": [
    "from openai import OpenAI\n",
    "import os\n",
    "import json"
   ]
  },
  {
   "cell_type": "markdown",
   "metadata": {},
   "source": [
    "## 1.2 OpenAI\n",
    "\n",
    "We define the defnitions needed for OpenAI so we can easily access them later\n",
    "\n",
    "`api_key =` this is essentially a password provided by OpenAI, it allows us to access OpenAI's services whenever we use them\n",
    "\n",
    "`client = OpenAI(api_key=api_key)` this sets up a client which can communicate with OpenAI's services, we specify this beforehand so we do not have to write out \"OpenAI(api_key=api_key)\" when we want to communicate with OpenAI"
   ]
  },
  {
   "cell_type": "code",
   "execution_count": null,
   "metadata": {},
   "outputs": [],
   "source": [
    "api_key = \"\"\n",
    "\n",
    "client = OpenAI(api_key=api_key)"
   ]
  },
  {
   "cell_type": "markdown",
   "metadata": {},
   "source": [
    "## 1.3 Directories\n",
    "\n",
    "We set up any directories for files or websites that we will use later\n",
    "\n",
    "`store_name =` this is a general purpose name that we will use when creating files, this allows us to make sure we are retrieving the documents we want later on.\n",
    "\n",
    "`assistant_directory =` this is the file directory where we store and retrieve the assistant id from. \n",
    "\n",
    "`document_directory =` this is the file directory where we store and retrieve our documents from.\n",
    "\n",
    "`data_directory =` this is the file directory where we'll store and retrieve any other kinds of data.\n",
    "\n",
    "`image_directory =` this is the file directory where we'll store and retreieve any images.\n",
    "\n",
    "`conversation_directory =` this is the directory we'll store conversations we have with the chatbot as .json files so we can look back at them later.\n",
    "\n",
    "`urls =` you should specify here any urls you want the assistant to have access to\n",
    "\n",
    "`urls_with_subdomains =` this list specifies any urls with subdomains all of which you want to add to the urls list\n",
    "\n",
    "You should make sure when specifying these that they are the same as you used in the Assistant Creator and Resource Creator Scripts"
   ]
  },
  {
   "cell_type": "code",
   "execution_count": null,
   "metadata": {},
   "outputs": [],
   "source": [
    "store_name = \"Programming\"\n",
    "\n",
    "assistant_directory = r\"\"\n",
    "\n",
    "document_directory = r\"\"\n",
    "\n",
    "data_directory = r\"\"\n",
    "\n",
    "image_directory = r\"\"\n",
    "\n",
    "conversation_directory = r\"\"\n",
    "\n",
    "urls = []\n",
    "\n",
    "urls_with_subdomains = [\"\"]"
   ]
  },
  {
   "cell_type": "markdown",
   "metadata": {},
   "source": [
    "# 2 - Assistant Creator\n",
    "\n",
    "This section details the process of assistant creation and ensuring that a given assistant has the knowledge base we want it to have"
   ]
  },
  {
   "cell_type": "markdown",
   "metadata": {},
   "source": [
    "## 2.1 Loading Vector Stores\n",
    "\n",
    "We need retrieve all of the vector store id we stored in the resource creator script as our asssitant will need this so it knows what vector store to use as its knowledge base."
   ]
  },
  {
   "cell_type": "code",
   "execution_count": 4,
   "metadata": {},
   "outputs": [],
   "source": [
    "vector_name = f\"vector_store_id_{store_name}.json\"\n",
    "vector_path = os.path.join(data_directory, vector_name) # gets the path for our vector store id\n",
    "\n",
    "with open(vector_path, \"r\") as file: \n",
    "    vector_store_id = json.load(file) # retrieves our vector store id"
   ]
  },
  {
   "cell_type": "markdown",
   "metadata": {},
   "source": [
    "## 2.2 Assistant Creation"
   ]
  },
  {
   "cell_type": "markdown",
   "metadata": {},
   "source": [
    "`Description` and `instructions`: Descriptions and instructions are very similar but differ in scope, the description is limited to 512 characters and provides a general overview of what the assistant does, it should be a high level statement that outlines the assistants capabilities, functions and intend use cases. The description is limited to 256,000 characters and is used to provide detailed and specific guidelines for how the assistant should perform its task, it should contain specific rules, behaviours or constraints.\n",
    "\n",
    "`Model`: Here I've used the gpt-4o model if you want to have your assistant exert more specific behaviours that change its answers dramatically I'd recommend looking at the fine tuning note book and tutorial as most of this takes place outside of coding. If you have a fine tuned model you can swap \"gpt-4o\" for the output model given in the fine tuning menu. \n",
    "\n",
    "`Tools`: These are the tools you give your chatbot access to, the two I have given it here are file_search and code_interpreter. The file_search tool allows the chatbot to search through any vector stores we give it whilst the code_interpreter allows the chatbot to run and write its own code. It's generally not a bad idea to just give a chat bot these but you can freely remove these from the list of tools it has access to, although this will remove the relevant functionality.\n",
    "\n",
    "`Tool Resources`: This is used predominantly to give the file_search tool access to the vector stores you want to give your chatbot\n",
    "\n",
    "`Top_p`: Top_p is one of two quantities that controls the balance between creativity and determinism of the chatbot. The other is called temperature and generally it is recommended you only adjust one at a time. Higher values of the values leads to more creativity/randomness whereas lower values lead to more determinsitic and fact base behaviour as such I have set the value of top_p relatively low."
   ]
  },
  {
   "cell_type": "code",
   "execution_count": 5,
   "metadata": {},
   "outputs": [],
   "source": [
    "assistant = client.beta.assistants.create( # creates the assistant\n",
    "  name=\"Programming Teacher\", # gives the assistant a name\n",
    "  description=\"You are a factual chatbot that helps students learn by asking them questions\", # gives the assistant an instruction\n",
    "  model=\"gpt-4o\", # specifies the model to be used\n",
    "  tools=[{\"type\": \"file_search\"}, {\"type\": \"code_interpreter\"}], # gives it access to several tools\n",
    "  tool_resources={\"file_search\": {\"vector_store_ids\": [vector_store_id]}}, # gives it access to the vector store we created \n",
    "  top_p=0.05, # specifies the top_p\n",
    ")"
   ]
  },
  {
   "cell_type": "markdown",
   "metadata": {},
   "source": [
    "## 2.3 Storing Assistant ID\n",
    "We store the assistant id in a .json file so it can be used later, we give the .json file a name corresponding to the name of the assistant"
   ]
  },
  {
   "cell_type": "code",
   "execution_count": 6,
   "metadata": {},
   "outputs": [],
   "source": [
    "assistant_name = f\"{assistant.name}_assistant_id.json\" # creates the file name for the vector store id\n",
    "assistant_path = os.path.join(assistant_directory, assistant_name) # creates the file path for the vector store id\n",
    "\n",
    "with open(assistant_path, \"w\") as file: # saves the vector store id as a .json file\n",
    "    json.dump(assistant.id, file)"
   ]
  },
  {
   "cell_type": "code",
   "execution_count": null,
   "metadata": {},
   "outputs": [],
   "source": []
  }
 ],
 "metadata": {
  "kernelspec": {
   "display_name": "Python 3",
   "language": "python",
   "name": "python3"
  },
  "language_info": {
   "codemirror_mode": {
    "name": "ipython",
    "version": 3
   },
   "file_extension": ".py",
   "mimetype": "text/x-python",
   "name": "python",
   "nbconvert_exporter": "python",
   "pygments_lexer": "ipython3",
   "version": "3.10.0"
  }
 },
 "nbformat": 4,
 "nbformat_minor": 2
}
